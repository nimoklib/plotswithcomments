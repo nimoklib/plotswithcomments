{
 "cells": [
  {
   "cell_type": "code",
   "execution_count": null,
   "metadata": {},
   "outputs": [],
   "source": [
    "import math\n",
    "\n",
    "ITERATIONS = 21\n",
    "\n",
    "def my_sinh(x):\n",
    "    \"\"\"\n",
    "    Вычисление гиперболического синуса при помощи частичного суммирования\n",
    "    ряда Тейлора для окрестности 0\n",
    "    \"\"\"\n",
    "    x_pow = x\n",
    "    multiplier = 1\n",
    "    partial_sum = x \n",
    "    for n in range(1, ITERATIONS):\n",
    "        x_pow *= x**(2*n+1)  # В цикле постепенно считаем степень\n",
    "        multiplier *= 1 / math.factorial(2*n+1)  # считаем факториал\n",
    "        partial_sum += x_pow * multiplier\n",
    "    \n",
    "    return partial_sum\n",
    "\n",
    "print(help(math.sinh), math.sinh(0.8))\n",
    "print(help(my_sinh), my_sinh(0.8))\n",
    "\n",
    "import cmath\n",
    "\n",
    "complex_angle = cmath.asinh(2)\n",
    "print('\"Угол\", на котором гиперболический синус достигает двух:', complex_angle)\n",
    "\n",
    "print(\"Достигает ли двух наш гиперболический синус?\", my_sinh(complex_angle))\n",
    "print(\"А библиотечный?\", cmath.sinh(complex_angle))\n",
    "\n",
    "%matplotlib inline\n",
    "from IPython.display import set_matplotlib_formats\n",
    "set_matplotlib_formats('pdf', 'svg')\n",
    "\n",
    "\n",
    "import matplotlib.pyplot as plt\n",
    "import numpy as np\n",
    "\n",
    "vs = np.vectorize(my_sinh)\n",
    "print(my_sinh, vs)\n",
    "\n",
    "angles = np.r_[-14.00:14.00:0.01]\n",
    "plt.plot(angles, np.sinh(angles))\n",
    "plt.plot(angles, vs(angles))\n",
    "plt.show()"
   ]
  }
 ],
 "metadata": {
  "kernelspec": {
   "display_name": "Python 3",
   "language": "python",
   "name": "python3"
  },
  "language_info": {
   "codemirror_mode": {
    "name": "ipython",
    "version": 3
   },
   "file_extension": ".py",
   "mimetype": "text/x-python",
   "name": "python",
   "nbconvert_exporter": "python",
   "pygments_lexer": "ipython3",
   "version": "3.8.3"
  }
 },
 "nbformat": 4,
 "nbformat_minor": 4
}
