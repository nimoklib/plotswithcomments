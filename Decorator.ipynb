{
 "cells": [
  {
   "cell_type": "code",
   "execution_count": 1,
   "metadata": {},
   "outputs": [
    {
     "name": "stdout",
     "output_type": "stream",
     "text": [
      "5\n",
      "4\n"
     ]
    }
   ],
   "source": [
    "# -*- coding: utf-8 -*-\n",
    "\"\"\"\n",
    "Created on Wed Dec 23 13:17:47 2020\n",
    "\n",
    "@author: Acer7\n",
    "\"\"\"\n",
    "\n",
    "def repeat(n):  # Вот это и надо реализовать\n",
    "    def recurse_function(function_to_recurse):\n",
    "        def fake_function(*args, **kwargs):\n",
    "            result = args[0]\n",
    "            for i in range(n):\n",
    "                result = function_to_recurse(result)\n",
    "            return result\n",
    "        return fake_function\n",
    "    return recurse_function\n",
    "        \n",
    "\n",
    "\n",
    "@repeat(2)\n",
    "def plus_1(x):\n",
    "    return x + 1\n",
    "\n",
    "\n",
    "@repeat(0)\n",
    "def mul_2(x):\n",
    "    return x * 2\n",
    "\n",
    "print(plus_1(3))  # должно выдать 5\n",
    "print(mul_2(4))  # должно выдать 4"
   ]
  },
  {
   "cell_type": "code",
   "execution_count": null,
   "metadata": {},
   "outputs": [],
   "source": []
  }
 ],
 "metadata": {
  "kernelspec": {
   "display_name": "Python 3",
   "language": "python",
   "name": "python3"
  },
  "language_info": {
   "codemirror_mode": {
    "name": "ipython",
    "version": 3
   },
   "file_extension": ".py",
   "mimetype": "text/x-python",
   "name": "python",
   "nbconvert_exporter": "python",
   "pygments_lexer": "ipython3",
   "version": "3.8.3"
  }
 },
 "nbformat": 4,
 "nbformat_minor": 4
}
