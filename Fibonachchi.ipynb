{
 "cells": [
  {
   "cell_type": "code",
   "execution_count": null,
   "metadata": {},
   "outputs": [],
   "source": [
    "# -*- coding: utf-8 -*-\n",
    "\"\"\"\n",
    "Created on Wed Dec  9 19:13:15 2020\n",
    "\n",
    "@author: Acer7\n",
    "\"\"\"\n",
    "\n",
    "import itertools\n",
    "\n",
    "class Fib8:    \n",
    "\n",
    "    class _Fib8_iter:\n",
    "        def __init__(self):\n",
    "            self.fib1 = 0\n",
    "            self.fib2 = 1\n",
    "        \n",
    "        def __next__(self):\n",
    "            x = self.fib1\n",
    "            self.fib1 = self.fib2\n",
    "            self.fib2 = self.fib2 + x\n",
    "            x = self.fib1\n",
    "            return x\n",
    "\n",
    "    def __iter__(self):\n",
    "        return Fib8._Fib8_iter()\n",
    "    \n",
    "print(list(itertools.islice(Fib8(), 8)))"
   ]
  }
 ],
 "metadata": {
  "kernelspec": {
   "display_name": "Python 3",
   "language": "python",
   "name": "python3"
  },
  "language_info": {
   "codemirror_mode": {
    "name": "ipython",
    "version": 3
   },
   "file_extension": ".py",
   "mimetype": "text/x-python",
   "name": "python",
   "nbconvert_exporter": "python",
   "pygments_lexer": "ipython3",
   "version": "3.8.3"
  }
 },
 "nbformat": 4,
 "nbformat_minor": 4
}
