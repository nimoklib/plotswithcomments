{
 "cells": [
  {
   "cell_type": "code",
   "execution_count": null,
   "metadata": {},
   "outputs": [],
   "source": [
    "def gcd(x, y):\n",
    "    while x != 0 and y != 0:\n",
    "        if x >= y:\n",
    "            x %= y\n",
    "        else:\n",
    "            y %= x\n",
    "    if x==0:\n",
    "        return y\n",
    "    else:\n",
    "        return x\n",
    "\n",
    "a = gcd(121, 16)\n",
    "print(a)\n",
    "\n",
    "from math import sqrt\n",
    "\n",
    "def check(a):\n",
    "    if a == 1:\n",
    "        return True\n",
    "    if 1< a < 2:\n",
    "        return False\n",
    "    if a == 2:\n",
    "        return True\n",
    "    end = sqrt(a)\n",
    "    i = 2\n",
    "    while i <= end:\n",
    "        if a % i == 0:\n",
    "            return False\n",
    "        i += 1\n",
    "    return True\n",
    "\n",
    "print(check(a))"
   ]
  }
 ],
 "metadata": {
  "kernelspec": {
   "display_name": "Python 3",
   "language": "python",
   "name": "python3"
  },
  "language_info": {
   "codemirror_mode": {
    "name": "ipython",
    "version": 3
   },
   "file_extension": ".py",
   "mimetype": "text/x-python",
   "name": "python",
   "nbconvert_exporter": "python",
   "pygments_lexer": "ipython3",
   "version": "3.8.3"
  }
 },
 "nbformat": 4,
 "nbformat_minor": 4
}
