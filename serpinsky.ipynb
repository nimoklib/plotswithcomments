{
 "cells": [
  {
   "cell_type": "code",
   "execution_count": null,
   "metadata": {},
   "outputs": [],
   "source": [
    "from turtle import*\n",
    "\n",
    "window = Screen()\n",
    "t = Turtle()\n",
    " \n",
    "def draw_Serpinski(length,n):\n",
    "    if n==0:\n",
    "        for i in range(0,3):\n",
    "            t.forward(length)\n",
    "            t.left(120)\n",
    "    else:\n",
    "        draw_Serpinski(length/2,n-1)\n",
    "        t.forward(length/2)\n",
    "        draw_Serpinski(length/2,n-1)\n",
    "        t.backward(length/2)\n",
    "        t.left(60)\n",
    "        t.forward(length/2)\n",
    "        t.right(60)\n",
    "        draw_Serpinski(length/2,n-1)\n",
    "        t.left(60)\n",
    "        t.backward(length/2)\n",
    "        t.right(60)\n",
    " \n",
    "\n",
    "t.speed(1)\n",
    "t.pensize(1)\n",
    "t.color(\"blue\")\n",
    "t.penup()\n",
    "t.goto(-200, -200)\n",
    "t.pendown()\n",
    "\n",
    "draw_Serpinski(500,4)\n",
    "window.exitonclick()"
   ]
  }
 ],
 "metadata": {
  "kernelspec": {
   "display_name": "Python 3",
   "language": "python",
   "name": "python3"
  },
  "language_info": {
   "codemirror_mode": {
    "name": "ipython",
    "version": 3
   },
   "file_extension": ".py",
   "mimetype": "text/x-python",
   "name": "python",
   "nbconvert_exporter": "python",
   "pygments_lexer": "ipython3",
   "version": "3.8.3"
  }
 },
 "nbformat": 4,
 "nbformat_minor": 4
}
