{
 "cells": [
  {
   "cell_type": "code",
   "execution_count": null,
   "metadata": {},
   "outputs": [],
   "source": [
    "import math\n",
    "\n",
    "ITERATIONS = 25\n",
    "\n",
    "def my_exp(x):\n",
    "    \"\"\"\n",
    "    Вычисление exp^x при помощи частичного суммирования\n",
    "    ряда Тейлора для окрестности 0\n",
    "    \"\"\"\n",
    "    x_pow = x\n",
    "    multiplier = 1\n",
    "    partial_sum = x \n",
    "    for n in range(2, ITERATIONS):\n",
    "        x_pow = x**(n)  # В цикле постепенно считаем степень\n",
    "        multiplier = 1 / math.factorial(n)  # считаем факториал\n",
    "        partial_sum += x_pow * multiplier\n",
    "    \n",
    "    return partial_sum\n",
    "\n",
    "print(help(math.exp), math.exp(10))\n",
    "print(help(my_exp), my_exp(10))\n",
    "\n",
    "import cmath\n",
    "\n",
    "complex_num = 4+5j\n",
    "print(\"сравнение значения моей экспоненты с библиотечной в стпенеи комплексного числа\", complex_num)\n",
    "\n",
    "print(\"значение моей экспоненты\", my_exp(complex_num))\n",
    "print(\"библиотечной\", cmath.exp(complex_num))\n",
    "\n",
    "%matplotlib inline\n",
    "from IPython.display import set_matplotlib_formats\n",
    "set_matplotlib_formats('pdf', 'svg')\n",
    "\n",
    "\n",
    "import matplotlib.pyplot as plt\n",
    "import numpy as np\n",
    "\n",
    "vs = np.vectorize(my_exp)\n",
    "print(my_exp, vs)\n",
    "\n",
    "angles = np.r_[-0.00:10.00:0.01]\n",
    "plt.plot(angles, np.exp(angles))\n",
    "plt.plot(angles, vs(angles))\n",
    "plt.show()"
   ]
  }
 ],
 "metadata": {
  "kernelspec": {
   "display_name": "Python 3",
   "language": "python",
   "name": "python3"
  },
  "language_info": {
   "codemirror_mode": {
    "name": "ipython",
    "version": 3
   },
   "file_extension": ".py",
   "mimetype": "text/x-python",
   "name": "python",
   "nbconvert_exporter": "python",
   "pygments_lexer": "ipython3",
   "version": "3.8.3"
  }
 },
 "nbformat": 4,
 "nbformat_minor": 4
}
