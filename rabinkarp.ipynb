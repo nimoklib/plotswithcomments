{
 "cells": [
  {
   "cell_type": "code",
   "execution_count": null,
   "metadata": {},
   "outputs": [],
   "source": [
    "t = \"1122331231123\"\n",
    "p = \"112\"\n",
    "\n",
    "def find_all_rabin_karp(t, p):\n",
    "     result = []\n",
    "     patternsum = sum(ord(s) for s in p)\n",
    "     twindowsum = sum(ord(t[k]) for k in range(len(p)))\n",
    "     for i in range(len(t) - len(p)) :\n",
    "         if (patternsum==twindowsum) :\n",
    "             if t.startswith(p, i):\n",
    "                 result.append(i)\n",
    "         twindowsum = twindowsum + ord(t[i+len(p)]) - ord(t[i])\n",
    "     return result\n",
    "print(find_all_rabin_karp(t, p))"
   ]
  }
 ],
 "metadata": {
  "kernelspec": {
   "display_name": "Python 3",
   "language": "python",
   "name": "python3"
  },
  "language_info": {
   "codemirror_mode": {
    "name": "ipython",
    "version": 3
   },
   "file_extension": ".py",
   "mimetype": "text/x-python",
   "name": "python",
   "nbconvert_exporter": "python",
   "pygments_lexer": "ipython3",
   "version": "3.8.3"
  }
 },
 "nbformat": 4,
 "nbformat_minor": 4
}
