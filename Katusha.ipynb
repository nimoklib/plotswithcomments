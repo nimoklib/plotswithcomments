{
 "cells": [
  {
   "cell_type": "code",
   "execution_count": 6,
   "metadata": {},
   "outputs": [
    {
     "data": {
      "image/png": "[encoded data removed]",
      "text/plain": [
       "<Figure size 432x288 with 1 Axes>"
      ]
     },
     "metadata": {
      "needs_background": "light"
     },
     "output_type": "display_data"
    }
   ],
   "source": [
    "# -*- coding: utf-8 -*-\n",
    "\"\"\"\n",
    "Created on Tue Dec 15 19:06:40 2020\n",
    "\n",
    "@author: Acer7\n",
    "\"\"\"\n",
    "\n",
    "import math\n",
    "import numpy as np\n",
    "import matplotlib\n",
    "from matplotlib import pyplot as pp\n",
    "\n",
    "MODEL_G = 9.81\n",
    "MODEL_DM = 0.2        #изменение массы ракеты(засчет сгорания топлива)\n",
    "MODEL_DT = 0.001  \n",
    "MODEL_DU = 20         #cкорость газа относительно ракеты\n",
    "\n",
    "class Body:\n",
    "    def __init__(self, x, y, vx, vy):\n",
    "\n",
    "        self.x = x\n",
    "        self.y = y\n",
    "        self.vx = vx\n",
    "        self.vy = vy\n",
    "        \n",
    "        self.trajectory_x = []\n",
    "        self.trajectory_y = []\n",
    "        \n",
    "\n",
    "    def advance(self):\n",
    "\n",
    "        self.trajectory_x.append(self.x)\n",
    "        self.trajectory_y.append(self.y)\n",
    "        \n",
    "        self.x += self.vx * MODEL_DT\n",
    "        self.y += self.vy * MODEL_DT\n",
    "        self.vy -= MODEL_G * MODEL_DT\n",
    "        \n",
    "class Rocket(Body):\n",
    "    def __init__(self, x, y, m):\n",
    "        super().__init__(x, y, 10, 10)\n",
    "        self.m = m\n",
    "\n",
    "    def advance(self):\n",
    "        super().advance() \n",
    "        if (self.m >= 30):\n",
    "            self.m -= MODEL_DM\n",
    "            v = (self.vx ** 2 + self.vy ** 2) ** 0.5\n",
    "            dv = MODEL_DU * MODEL_DM / self.m        #Изменение всей скрости за dt (не считая силу тяжести)\n",
    "            self.vx += dv * self.vx / v             #Изменение проекции скорости\n",
    "            self.vy += dv * self.vy / v\n",
    "            \n",
    "\n",
    "\n",
    "b = Body(0, 0, 5, 10)\n",
    "r = Rocket(0, 0, 100)\n",
    "\n",
    "bodies = [b, r]\n",
    "\n",
    "\n",
    "for t in np.r_[0:2:MODEL_DT]: \n",
    "    for b in bodies: \n",
    "        b.advance() \n",
    "        \n",
    "\n",
    "\n",
    "for b in bodies: \n",
    "    pp.plot(b.trajectory_x, b.trajectory_y) \n",
    "pp.show()"
   ]
  },
  {
   "cell_type": "code",
   "execution_count": null,
   "metadata": {},
   "outputs": [],
   "source": []
  }
 ],
 "metadata": {
  "kernelspec": {
   "display_name": "Python 3",
   "language": "python",
   "name": "python3"
  },
  "language_info": {
   "codemirror_mode": {
    "name": "ipython",
    "version": 3
   },
   "file_extension": ".py",
   "mimetype": "text/x-python",
   "name": "python",
   "nbconvert_exporter": "python",
   "pygments_lexer": "ipython3",
   "version": "3.8.3"
  }
 },
 "nbformat": 4,
 "nbformat_minor": 4
}
